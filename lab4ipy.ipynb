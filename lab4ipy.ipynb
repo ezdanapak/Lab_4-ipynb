{
  "cells": [
    {
      "cell_type": "markdown",
      "id": "0",
      "metadata": {
        "id": "0"
      },
      "source": [
        "# Get Started\n",
        "\n",
        "[![Open In Colab](https://colab.research.google.com/assets/colab-badge.svg)](https://colab.research.google.com/github/giswqs/geog-510/blob/main/book/python/01_get_started.ipynb)\n",
        "\n"
      ]
    },
    {
      "cell_type": "markdown",
      "source": [
        "Exercise 1: Variable Assignment and Basic Operations"
      ],
      "metadata": {
        "id": "1USMNvjPxVut"
      },
      "id": "1USMNvjPxVut"
    },
    {
      "cell_type": "code",
      "source": [
        "latitude = 40.7128\n",
        "longitude = -74.0060\n",
        "population = 8336817\n",
        "areaNewYork = 783.8\n",
        "latitude = 40.7128\n",
        "longitude = -74.0060\n",
        "population = 8336817\n",
        "areaNewYork = 783.8\n",
        "\n",
        "density = population / areaNewYork\n",
        "print(\"Latitude:\", latitude, \"Longitude:\", longitude)\n",
        "print(\"People population per square kilometer\", density)"
      ],
      "metadata": {
        "id": "UEYrUIFOxWnF",
        "outputId": "793088d8-f661-45e5-8d96-12fc83293825",
        "colab": {
          "base_uri": "https://localhost:8080/"
        }
      },
      "id": "UEYrUIFOxWnF",
      "execution_count": 6,
      "outputs": [
        {
          "output_type": "stream",
          "name": "stdout",
          "text": [
            "Latitude: 40.7128 Longitude: -74.006\n",
            "People population per square kilometer 10636.408522582293\n"
          ]
        }
      ]
    },
    {
      "cell_type": "markdown",
      "source": [
        "Exercise 2: Working with Strings"
      ],
      "metadata": {
        "id": "5MuVcyRbxXXc"
      },
      "id": "5MuVcyRbxXXc"
    },
    {
      "cell_type": "code",
      "source": [
        "city = 'San Francisco'\n",
        "\n",
        "replstring = city.replace(\"San\", \"Los\")\n",
        "\n",
        "print(city.lower(),\"< lowercase &  uppercase >\",city.upper(),\"\\t\",\n",
        "      \"&\",replstring)"
      ],
      "metadata": {
        "id": "P6HwaE9g3ETW",
        "outputId": "a2d82e6e-bc98-4225-b9e6-a484a7b75d7c",
        "colab": {
          "base_uri": "https://localhost:8080/"
        }
      },
      "id": "P6HwaE9g3ETW",
      "execution_count": 13,
      "outputs": [
        {
          "output_type": "stream",
          "name": "stdout",
          "text": [
            "san francisco < lowercase &  uppercase > SAN FRANCISCO \t & Los Francisco\n"
          ]
        }
      ]
    },
    {
      "cell_type": "markdown",
      "source": [
        "Exercise 3: Using Lists"
      ],
      "metadata": {
        "id": "fLR4IWtn6Agg"
      },
      "id": "fLR4IWtn6Agg"
    },
    {
      "cell_type": "code",
      "source": [
        "cities = (['New York City:', 40.7128, -74.0060], ['Los Angeles:', 34.0522, -118.2437], [\"Chicago:\", 41.8781, -87.6298])\n",
        "cities = list(cities)\n",
        "cities.append([\"Miami:\", 25.7617, -80.1918])\n",
        "cities = tuple(cities)\n",
        "\n",
        "print(cities)\n",
        "print(cities[0:2])\n"
      ],
      "metadata": {
        "id": "rOxaf5nZ5_uA",
        "outputId": "3aed3283-f3a0-435b-9731-1501ea3a8cc8",
        "colab": {
          "base_uri": "https://localhost:8080/"
        }
      },
      "id": "rOxaf5nZ5_uA",
      "execution_count": 28,
      "outputs": [
        {
          "output_type": "stream",
          "name": "stdout",
          "text": [
            "(['New York City:', 40.7128, -74.006], ['Los Angeles:', 34.0522, -118.2437])\n"
          ]
        }
      ]
    },
    {
      "cell_type": "markdown",
      "source": [
        "Exercise 4: Using Tuples"
      ],
      "metadata": {
        "id": "Htjdmomw90gR"
      },
      "id": "Htjdmomw90gR"
    },
    {
      "cell_type": "code",
      "source": [
        "eiffel_tower = (48.8584, 2.2945)\n",
        "print(eiffel_tower)\n",
        "\n",
        "#eiffel_tower[0] = 48.8585\n",
        "#TypeError: 'tuple' object does not support item assignment\n",
        "#In tuples you can't change values after they are created."
      ],
      "metadata": {
        "id": "1Xzq6OSi91TQ",
        "outputId": "07c7cf2c-c614-419f-f111-85bce8a43706",
        "colab": {
          "base_uri": "https://localhost:8080/",
          "height": 193
        }
      },
      "id": "1Xzq6OSi91TQ",
      "execution_count": 31,
      "outputs": [
        {
          "output_type": "stream",
          "name": "stdout",
          "text": [
            "(48.8584, 2.2945)\n"
          ]
        },
        {
          "output_type": "error",
          "ename": "TypeError",
          "evalue": "'tuple' object does not support item assignment",
          "traceback": [
            "\u001b[0;31m---------------------------------------------------------------------------\u001b[0m",
            "\u001b[0;31mTypeError\u001b[0m                                 Traceback (most recent call last)",
            "\u001b[0;32m<ipython-input-31-5053b9e78a07>\u001b[0m in \u001b[0;36m<cell line: 0>\u001b[0;34m()\u001b[0m\n\u001b[1;32m      1\u001b[0m \u001b[0meiffel_tower\u001b[0m \u001b[0;34m=\u001b[0m \u001b[0;34m(\u001b[0m\u001b[0;36m48.8584\u001b[0m\u001b[0;34m,\u001b[0m \u001b[0;36m2.2945\u001b[0m\u001b[0;34m)\u001b[0m\u001b[0;34m\u001b[0m\u001b[0;34m\u001b[0m\u001b[0m\n\u001b[1;32m      2\u001b[0m \u001b[0mprint\u001b[0m\u001b[0;34m(\u001b[0m\u001b[0meiffel_tower\u001b[0m\u001b[0;34m)\u001b[0m\u001b[0;34m\u001b[0m\u001b[0;34m\u001b[0m\u001b[0m\n\u001b[0;32m----> 3\u001b[0;31m \u001b[0meiffel_tower\u001b[0m\u001b[0;34m[\u001b[0m\u001b[0;36m0\u001b[0m\u001b[0;34m]\u001b[0m \u001b[0;34m=\u001b[0m \u001b[0;36m48.8585\u001b[0m\u001b[0;34m\u001b[0m\u001b[0;34m\u001b[0m\u001b[0m\n\u001b[0m",
            "\u001b[0;31mTypeError\u001b[0m: 'tuple' object does not support item assignment"
          ]
        }
      ]
    },
    {
      "cell_type": "markdown",
      "source": [
        "Exercise 5: Working with Sets"
      ],
      "metadata": {
        "id": "b18dXEaACOHC"
      },
      "id": "b18dXEaACOHC"
    },
    {
      "cell_type": "code",
      "source": [
        "visited_countries = {\"Poland\", \"Netherlands\", \"Czech republic\"}\n",
        "\n",
        "visited_countries.add(\"Turkey\")\n",
        "\n",
        "print(visited_countries)\n",
        "\n",
        "#visited_countries.add(\"Turkey\")\n",
        "#print(visited_countries)\n",
        "#Nothing happens, here are not allowed dublicates"
      ],
      "metadata": {
        "id": "wcr3-xQeCN4Z",
        "outputId": "48aa8944-d4fa-43eb-94e0-083aa8f7e31a",
        "colab": {
          "base_uri": "https://localhost:8080/"
        }
      },
      "id": "wcr3-xQeCN4Z",
      "execution_count": 33,
      "outputs": [
        {
          "output_type": "stream",
          "name": "stdout",
          "text": [
            "{'Turkey', 'Netherlands', 'Poland', 'Czech republic'}\n",
            "{'Turkey', 'Netherlands', 'Poland', 'Czech republic'}\n"
          ]
        }
      ]
    },
    {
      "cell_type": "markdown",
      "source": [
        "Exercise 6: Working with Dictionaries"
      ],
      "metadata": {
        "id": "Ba_j8m1CEjSU"
      },
      "id": "Ba_j8m1CEjSU"
    },
    {
      "cell_type": "code",
      "source": [],
      "metadata": {
        "id": "unORzDflEjxy"
      },
      "id": "unORzDflEjxy",
      "execution_count": null,
      "outputs": []
    }
  ],
  "metadata": {
    "kernelspec": {
      "display_name": "Python 3",
      "language": "python",
      "name": "python3"
    },
    "language_info": {
      "codemirror_mode": {
        "name": "ipython",
        "version": 3
      },
      "file_extension": ".py",
      "mimetype": "text/x-python",
      "name": "python",
      "nbconvert_exporter": "python",
      "pygments_lexer": "ipython3",
      "version": "3.11.8"
    },
    "colab": {
      "provenance": []
    }
  },
  "nbformat": 4,
  "nbformat_minor": 5
}
